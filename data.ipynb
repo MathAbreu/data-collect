{
 "cells": [
  {
   "cell_type": "code",
   "execution_count": 74,
   "metadata": {},
   "outputs": [],
   "source": [
    "import requests\n",
    "from bs4 import BeautifulSoup"
   ]
  },
  {
   "cell_type": "code",
   "execution_count": 75,
   "metadata": {},
   "outputs": [],
   "source": [
    "import requests\n",
    "\n",
    "def get_content(url):\n",
    "    # Definindo os cookies\n",
    "    cookies = {\n",
    "        '_gid': 'GA1.2.1143637437.1721853586',\n",
    "        '_gat_gtag_UA_29446588_1': '1',\n",
    "        '_ga': 'GA1.1.1916856126.1721853586',\n",
    "        '__gads': 'ID=781a4e54ded99a3c:T=1721853594:RT=1721853594:S=ALNI_MZbvhnOO_u4xtXrMvqKi8Xk3sAmdg',\n",
    "        '__gpi': 'UID=00000ead84d5ce0a:T=1721853594:RT=1721853594:S=ALNI_Maox4seDtaTMp-wu8KZJwIROrlzcQ',\n",
    "        '__eoi': 'ID=f3906ad23d6096f9:T=1721853594:RT=1721853594:S=AA-AfjbGILo4XRq9n9T7L_pxOfI5',\n",
    "        'FCNEC': '%5B%5B%22AKsRol_JxWV1lRQSDpxUQQPHxQL0fMEJ-yhUO-kpj7dedBxaoRBD9Tf2L7BPyD2dVToz1MuWOI3JUWOW-dxYryra83Xf_zUMtP5i3wMQclgE8sEWY3fUrIeH347rnoBnSSu_WQ38cfblpZ-uiYQdi0F4qOyi8nhEjQ%3D%3D%22%5D%5D',\n",
    "        '_ga_DJLCSW50SC': 'GS1.1.1721853586.1.0.1721853587.59.0.0',\n",
    "        '_ga_D6NF5QC4QT': 'GS1.1.1721853586.1.0.1721853587.59.0.0',\n",
    "    }\n",
    "\n",
    "    # Definindo os cabeçalhos\n",
    "    headers = {\n",
    "        'accept': 'text/html,application/xhtml+xml,application/xml;q=0.9,image/avif,image/webp,image/apng,*/*;q=0.8,application/signed-exchange;v=b3;q=0.7',\n",
    "        'accept-language': 'pt-BR,pt;q=0.9,en-US;q=0.8,en;q=0.7',\n",
    "        'cache-control': 'max-age=0',\n",
    "        'priority': 'u=0, i',\n",
    "        'sec-ch-ua': '\"Not/A)Brand\";v=\"8\", \"Chromium\";v=\"126\", \"Google Chrome\";v=\"126\"',\n",
    "        'sec-ch-ua-mobile': '?0',\n",
    "        'sec-ch-ua-platform': '\"Windows\"',\n",
    "        'sec-fetch-dest': 'document',\n",
    "        'sec-fetch-mode': 'navigate',\n",
    "        'sec-fetch-site': 'none',\n",
    "        'sec-fetch-user': '?1',\n",
    "        'upgrade-insecure-requests': '1',\n",
    "        'user-agent': 'Mozilla/5.0 (Windows NT 10.0; Win64; x64) AppleWebKit/537.36 (KHTML, like Gecko) Chrome/126.0.0.0 Safari/537.36',\n",
    "    }\n",
    "\n",
    "    # Fazendo a requisição GET\n",
    "    resp = requests.get(url, headers=headers, cookies=cookies)\n",
    "    \n",
    "    # Retornando a resposta\n",
    "    return resp"
   ]
  },
  {
   "cell_type": "markdown",
   "metadata": {},
   "source": [
    "#Função Basic_Info"
   ]
  },
  {
   "cell_type": "code",
   "execution_count": 76,
   "metadata": {},
   "outputs": [],
   "source": [
    "def get_basic_info(url):\n",
    "    div_page = soup.find(\"div\", class_ = \"td-page-content\")\n",
    "    paragrafo = div_page.find_all(\"p\")[1]\n",
    "    ems = paragrafo.find_all(\"em\")\n",
    "    data = {}\n",
    "    for i in ems: \n",
    "        chave, valor = i.text.split(\":\")\n",
    "        chave = chave.strip(\" \")\n",
    "        data[chave] = valor.strip(\" \")\n",
    "\n",
    "    return data\n"
   ]
  },
  {
   "cell_type": "code",
   "execution_count": 77,
   "metadata": {},
   "outputs": [],
   "source": [
    "def get_aparicoes(soup):\n",
    "    lis = (soup.find(\"div\", class_=\"td-page-content\")\n",
    "       .find(\"h4\")\n",
    "       .find_next()\n",
    "       .find_all(\"li\"))\n",
    "    aparicoes = [i.text for i in lis]\n",
    "    return aparicoes"
   ]
  },
  {
   "cell_type": "code",
   "execution_count": 78,
   "metadata": {},
   "outputs": [],
   "source": [
    "def get_personagem_infos(url):\n",
    "    resp = get_content(url)\n",
    "\n",
    "    if resp.status_code != 200:\n",
    "        print(\"Não foi possível obter os dados de resposta\")\n",
    "    else:\n",
    "        soup = BeautifulSoup(resp.text)\n",
    "        get_basic_info(soup)\n",
    "        data[\"aparicoes\"] = get_aparicoes(soup)\n",
    "    \n",
    "    return data"
   ]
  },
  {
   "cell_type": "code",
   "execution_count": 79,
   "metadata": {},
   "outputs": [],
   "source": [
    "# Exemplo de uso\n",
    "url = \"https://www.residentevildatabase.com/personagens/ada-wong/\""
   ]
  },
  {
   "cell_type": "code",
   "execution_count": 80,
   "metadata": {},
   "outputs": [
    {
     "data": {
      "text/plain": [
       "{'Ano de nascimento': '1974 (24 anos em 1998)',\n",
       " 'Tipo sanguíneo': 'AB',\n",
       " 'Altura': 'Desconhecida.',\n",
       " 'Peso': 'Desconhecido.',\n",
       " 'aparicoes': ['Biohazard / Resident Evil 2 (1998)',\n",
       "  'Biohazard / Resident Evil 4 (2005)',\n",
       "  'Biohazard / Resident Evil: The Umbrella Chronicles (2007)',\n",
       "  'Biohazard / Resident Evil: The Darkside Chronicles (2009)',\n",
       "  'Biohazard / Resident Evil: Operation Raccoon City (2012)',\n",
       "  'Biohazard / Resident Evil: Damnation (2012)',\n",
       "  'Biohazard / Resident Evil 6 (2012)',\n",
       "  'Biohazard RE:2 / Resident Evil 2 (2019)',\n",
       "  'Biohazard RE:4 / Resident Evil 4 (2023)']}"
      ]
     },
     "execution_count": 80,
     "metadata": {},
     "output_type": "execute_result"
    }
   ],
   "source": [
    "get_personagem_infos(url)"
   ]
  },
  {
   "cell_type": "code",
   "execution_count": 81,
   "metadata": {},
   "outputs": [
    {
     "data": {
      "text/plain": [
       "<h4>Aparições em títulos da série:</h4>"
      ]
     },
     "execution_count": 81,
     "metadata": {},
     "output_type": "execute_result"
    }
   ],
   "source": [
    "soup.find(\"div\", class_=\"td-page-content\").find(\"h4\")"
   ]
  },
  {
   "cell_type": "code",
   "execution_count": 82,
   "metadata": {},
   "outputs": [
    {
     "data": {
      "text/plain": [
       "{'Ano de nascimento': '1974 (24 anos em 1998)',\n",
       " 'Tipo sanguíneo': 'AB',\n",
       " 'Altura': 'Desconhecida.',\n",
       " 'Peso': 'Desconhecido.',\n",
       " 'aparicoes': ['Biohazard / Resident Evil 2 (1998)',\n",
       "  'Biohazard / Resident Evil 4 (2005)',\n",
       "  'Biohazard / Resident Evil: The Umbrella Chronicles (2007)',\n",
       "  'Biohazard / Resident Evil: The Darkside Chronicles (2009)',\n",
       "  'Biohazard / Resident Evil: Operation Raccoon City (2012)',\n",
       "  'Biohazard / Resident Evil: Damnation (2012)',\n",
       "  'Biohazard / Resident Evil 6 (2012)',\n",
       "  'Biohazard RE:2 / Resident Evil 2 (2019)',\n",
       "  'Biohazard RE:4 / Resident Evil 4 (2023)']}"
      ]
     },
     "execution_count": 82,
     "metadata": {},
     "output_type": "execute_result"
    }
   ],
   "source": [
    "data"
   ]
  },
  {
   "cell_type": "code",
   "execution_count": null,
   "metadata": {},
   "outputs": [],
   "source": [
    " "
   ]
  }
 ],
 "metadata": {
  "kernelspec": {
   "display_name": "Python 3",
   "language": "python",
   "name": "python3"
  },
  "language_info": {
   "codemirror_mode": {
    "name": "ipython",
    "version": 3
   },
   "file_extension": ".py",
   "mimetype": "text/x-python",
   "name": "python",
   "nbconvert_exporter": "python",
   "pygments_lexer": "ipython3",
   "version": "3.12.2"
  }
 },
 "nbformat": 4,
 "nbformat_minor": 2
}
